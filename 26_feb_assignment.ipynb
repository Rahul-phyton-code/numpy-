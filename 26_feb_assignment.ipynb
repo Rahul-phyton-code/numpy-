{
  "nbformat": 4,
  "nbformat_minor": 0,
  "metadata": {
    "colab": {
      "provenance": [],
      "authorship_tag": "ABX9TyOiROu+k/AKSW9bkd8rDW5M",
      "include_colab_link": true
    },
    "kernelspec": {
      "name": "python3",
      "display_name": "Python 3"
    },
    "language_info": {
      "name": "python"
    }
  },
  "cells": [
    {
      "cell_type": "markdown",
      "metadata": {
        "id": "view-in-github",
        "colab_type": "text"
      },
      "source": [
        "<a href=\"https://colab.research.google.com/github/Rahul-phyton-code/numpy-/blob/main/26_feb_assignment.ipynb\" target=\"_parent\"><img src=\"https://colab.research.google.com/assets/colab-badge.svg\" alt=\"Open In Colab\"/></a>"
      ]
    },
    {
      "cell_type": "markdown",
      "source": [
        "1.) Array can store elements of only one data type but List can store the elements of different data types too. Hence, Array stores homogeneous data values, and the list can store heterogeneous data values.List is the in-build data structure of python language hence no module or package is to be imported before using it. But the array is not an in-build data structure for python language. Hence, we need to import the “array” module before creating and using arrays."
      ],
      "metadata": {
        "id": "qcS6fvUcMu-t"
      }
    },
    {
      "cell_type": "code",
      "source": [
        "import numpy as np\n",
        "list_ = [\"1\",\"2\",\"3\",\"4\",\"5\"]\n",
        "array_list = np.array(object = list_)\n",
        "print(type(list))\n",
        "print(type(array_list))"
      ],
      "metadata": {
        "colab": {
          "base_uri": "https://localhost:8080/"
        },
        "id": "NrlLdkoBM2jW",
        "outputId": "75d09f92-8b0e-48fd-8c56-c7b9f9b7f6a3"
      },
      "execution_count": 5,
      "outputs": [
        {
          "output_type": "stream",
          "name": "stdout",
          "text": [
            "<class 'type'>\n",
            "<class 'numpy.ndarray'>\n"
          ]
        }
      ]
    },
    {
      "cell_type": "markdown",
      "source": [
        "2.)"
      ],
      "metadata": {
        "id": "NIvI86gxPfw8"
      }
    },
    {
      "cell_type": "code",
      "source": [
        "import numpy as np\n",
        "list_ = [\"1\",\"2\",\"3\",\"4\",\"5\"]\n",
        "array_list = np.array(object = list_)\n",
        "for i in list_:\n",
        "  print(type(i))\n",
        "for x in array_list:\n",
        "  print(type(x))  \n"
      ],
      "metadata": {
        "colab": {
          "base_uri": "https://localhost:8080/"
        },
        "id": "jU3th1M-Ph5Q",
        "outputId": "dd72b981-11c4-4576-dcf8-b02691ccb852"
      },
      "execution_count": 7,
      "outputs": [
        {
          "output_type": "stream",
          "name": "stdout",
          "text": [
            "<class 'str'>\n",
            "<class 'str'>\n",
            "<class 'str'>\n",
            "<class 'str'>\n",
            "<class 'str'>\n",
            "<class 'numpy.str_'>\n",
            "<class 'numpy.str_'>\n",
            "<class 'numpy.str_'>\n",
            "<class 'numpy.str_'>\n",
            "<class 'numpy.str_'>\n"
          ]
        }
      ]
    },
    {
      "cell_type": "markdown",
      "source": [
        "3.) array_list = np.array(object = list_, dtype = int)\n",
        "\n",
        "it represents the same meaning as in earlier example because it shows object is of variable name list_ which clearly given that list_ contain elements which are of integers class. The privilege is that is reduce the size of coding in contrast to previous one"
      ],
      "metadata": {
        "id": "8LD7o7y8RWiq"
      }
    },
    {
      "cell_type": "code",
      "source": [
        "import numpy as np\n",
        "list_ = [\"1\",\"2\",\"3\",\"4\",\"5\"]\n",
        "array_list = np.array(object = list_ , dtype = int)\n",
        "for i in list_:\n",
        "  print(type(i))\n",
        "for x in array_list:\n",
        "  print(type(x))  \n",
        "\n",
        "\n"
      ],
      "metadata": {
        "colab": {
          "base_uri": "https://localhost:8080/"
        },
        "id": "kO0x8WAqTgbJ",
        "outputId": "3987a1b1-34b9-4a6b-8b45-8f8d2e71a36f"
      },
      "execution_count": 9,
      "outputs": [
        {
          "output_type": "stream",
          "name": "stdout",
          "text": [
            "<class 'str'>\n",
            "<class 'str'>\n",
            "<class 'str'>\n",
            "<class 'str'>\n",
            "<class 'str'>\n",
            "<class 'numpy.int64'>\n",
            "<class 'numpy.int64'>\n",
            "<class 'numpy.int64'>\n",
            "<class 'numpy.int64'>\n",
            "<class 'numpy.int64'>\n"
          ]
        }
      ]
    },
    {
      "cell_type": "markdown",
      "source": [
        "4.) "
      ],
      "metadata": {
        "id": "Tjl9iwoEUHZM"
      }
    },
    {
      "cell_type": "code",
      "source": [
        "import numpy as np\n",
        "num_list = [[1,2,3],[4,5,6]]\n",
        "num_array = np.array(object=num_list)\n",
        "num_array.shape\n",
        "num_array.size"
      ],
      "metadata": {
        "colab": {
          "base_uri": "https://localhost:8080/"
        },
        "id": "nJ5mqlfSUUE7",
        "outputId": "ec2b1a80-551f-4ba0-9f71-0e230f05a21f"
      },
      "execution_count": 12,
      "outputs": [
        {
          "output_type": "execute_result",
          "data": {
            "text/plain": [
              "6"
            ]
          },
          "metadata": {},
          "execution_count": 12
        }
      ]
    },
    {
      "cell_type": "markdown",
      "source": [
        "5.) "
      ],
      "metadata": {
        "id": "zfJO2-t3VyS_"
      }
    },
    {
      "cell_type": "code",
      "source": [
        "import numpy as np\n",
        "zero_matrix = np.ones((3,3))\n",
        "zero_matrix1 = np.ones((3,3))\n",
        "print(zero_matrix - zero_matrix1)"
      ],
      "metadata": {
        "colab": {
          "base_uri": "https://localhost:8080/"
        },
        "id": "0td4rBg-WLrw",
        "outputId": "f998ab91-9f58-4bd8-a792-1c40c3520f33"
      },
      "execution_count": 18,
      "outputs": [
        {
          "output_type": "stream",
          "name": "stdout",
          "text": [
            "[[0. 0. 0.]\n",
            " [0. 0. 0.]\n",
            " [0. 0. 0.]]\n"
          ]
        }
      ]
    },
    {
      "cell_type": "markdown",
      "source": [
        "6.)"
      ],
      "metadata": {
        "id": "Hgezq22aY6ZY"
      }
    },
    {
      "cell_type": "code",
      "source": [
        "import numpy as np\n",
        "a = np.eye(5)\n",
        "a"
      ],
      "metadata": {
        "colab": {
          "base_uri": "https://localhost:8080/"
        },
        "id": "L2Lg5mPYY8mc",
        "outputId": "5041cd12-a528-4087-d141-fcb515a5e023"
      },
      "execution_count": 20,
      "outputs": [
        {
          "output_type": "execute_result",
          "data": {
            "text/plain": [
              "array([[1., 0., 0., 0., 0.],\n",
              "       [0., 1., 0., 0., 0.],\n",
              "       [0., 0., 1., 0., 0.],\n",
              "       [0., 0., 0., 1., 0.],\n",
              "       [0., 0., 0., 0., 1.]])"
            ]
          },
          "metadata": {},
          "execution_count": 20
        }
      ]
    },
    {
      "cell_type": "code",
      "source": [],
      "metadata": {
        "id": "uHXd5NeiZG-y"
      },
      "execution_count": null,
      "outputs": []
    }
  ]
}